{
 "cells": [
  {
   "cell_type": "markdown",
   "metadata": {},
   "source": [
    "<img src=\"http://www.reeem.org/wp-content/uploads/2017/10/cropped-reeem-logo-transparent.png\" width=\"300\" style=\"float: left\">\n",
    "<img src=\"http://reiner-lemoine-institut.de//wp-content/uploads/2015/09/rlilogo.png\" width=\"100\" style=\"float: right\">"
   ]
  },
  {
   "cell_type": "markdown",
   "metadata": {},
   "source": [
    "# REEEM-DB - Template\n",
    "\n",
    "__copyright__ \t= \"© Reiner Lemoine Institut\" <br>\n",
    "__license__ \t= \"GNU Affero General Public License Version 3 (AGPL-3.0)\" <br>\n",
    "__url__ \t\t= \"https://www.gnu.org/licenses/agpl-3.0.en.html\" <br>\n",
    "__author__ \t\t= \"Ludwig Hülk\""
   ]
  },
  {
   "cell_type": "markdown",
   "metadata": {},
   "source": [
    "# Import"
   ]
  },
  {
   "cell_type": "code",
   "execution_count": null,
   "metadata": {},
   "outputs": [],
   "source": [
    "# basic\n",
    "import sys\n",
    "import os\n",
    "import getpass\n",
    "import pandas as pd\n",
    "import numpy as np\n",
    "import json\n",
    "import pathlib\n",
    "from sqlalchemy import *\n",
    "# plot\n",
    "import matplotlib.pyplot as plt\n",
    "import matplotlib.ticker as mticker\n",
    "import plotly.graph_objs as go\n",
    "import plotly.offline as pltly\n",
    "import colorlover as cl\n",
    "import seaborn as sns\n",
    "# notebook\n",
    "from IPython.display import Image\n",
    "from IPython.core.display import HTML \n",
    "\n",
    "pltly.init_notebook_mode(connected=True)\n",
    "%matplotlib inline\n",
    "\n",
    "version = 'v0.2.0'\n",
    "project = 'REEEM'"
   ]
  },
  {
   "cell_type": "markdown",
   "metadata": {},
   "source": [
    "# Database Connection\n",
    "\n",
    "This function creates a database connection to the **reeem_db**.<br>\n",
    "The default user is **reeem_vis**, a user that has only read rights.\n",
    "\n",
    "This section establishes the database connection and asks for the **password**.<br>\n",
    "The username can be changed in the corresponding function above.<br>\n",
    "If you don't have a username or forgot your password please contact your database admins."
   ]
  },
  {
   "cell_type": "code",
   "execution_count": null,
   "metadata": {},
   "outputs": [],
   "source": [
    "def reeem_session():\n",
    "    \"\"\"SQLAlchemy session object with valid connection to reeem database\"\"\"\n",
    "    \n",
    "    print('Please provide connection parameters to database:\\n' +\n",
    "              'Hit [Enter] to take defaults')\n",
    "    host = '130.226.55.43' # input('host (default 130.226.55.43): ')\n",
    "    port = '5432' # input('port (default 5432): ')\n",
    "    database = 'reeem' # input(\"database name (default 'reeem'): \")\n",
    "    user = 'reeem_vis' # input('user (default postgres): ')\n",
    "    # password = input('password: ')\n",
    "    password = getpass.getpass(prompt='password: ',\n",
    "                                   stream=sys.stderr)\n",
    "    con = create_engine(\n",
    "            'postgresql://' + '%s:%s@%s:%s/%s' % (user,\n",
    "                                                  password,\n",
    "                                                  host,\n",
    "                                                  port,\n",
    "                                                  database)).connect()\n",
    "    print('Password correct! Database connection established.')\n",
    "    return con\n",
    "\n",
    "con = reeem_session()"
   ]
  },
  {
   "cell_type": "markdown",
   "metadata": {},
   "source": [
    "# Table Info"
   ]
  },
  {
   "cell_type": "code",
   "execution_count": null,
   "metadata": {},
   "outputs": [],
   "source": [
    "# Database\n",
    "schema = 'model_draft'\n",
    "table_in = 'reeem_XYZ_input'\n",
    "table_out = 'reeem_XYZ_output'\n",
    "folder = 'XYZ'\n",
    "\n",
    "pathlib.Path('data/'+folder).mkdir(parents=True, exist_ok=True) \n",
    "print(\"Database Schema:\", schema +'\\n'+ \"Input table:\", table_in +'\\n'+ \n",
    "      \"Output table:\", table_out +'\\n'+ \"Created folder:\", folder )"
   ]
  },
  {
   "cell_type": "markdown",
   "metadata": {},
   "source": [
    "## Database Query\n",
    "\n",
    "This section is used to query the database tables (**table_in** and **table_out**).<br>"
   ]
  },
  {
   "cell_type": "code",
   "execution_count": null,
   "metadata": {},
   "outputs": [],
   "source": [
    "# Number of entries in table\n",
    "sql = text(\"\"\"\n",
    "    SELECT  'In' AS data, count(*) AS count\n",
    "    FROM    {0}.{1}\n",
    "    UNION ALL\n",
    "    SELECT  'Out' AS data, count(*) AS count\n",
    "    FROM    {0}.{2}\"\"\".format(schema, table_in, table_out))\n",
    "df_num = pd.read_sql_query(sql, con)\n",
    "df_num"
   ]
  },
  {
   "cell_type": "code",
   "execution_count": null,
   "metadata": {},
   "outputs": [],
   "source": [
    "# Pathways\n",
    "column = 'pathway' # id, pathway, version, region, year, indicator, category, value, unit\n",
    "sql = text(\"\"\"\n",
    "    SELECT  'In' AS data, {3}, count(*) AS count\n",
    "    FROM    {0}.{1}\n",
    "    GROUP BY {3} \n",
    "    UNION ALL \n",
    "    SELECT  'Out' AS data, {3}, count(*) AS count\n",
    "    FROM    {0}.{2}\n",
    "    GROUP BY {3} \n",
    "    ORDER BY {3}; \"\"\".format(schema, table_in, table_out, column))\n",
    "df_path = pd.read_sql_query(sql, con)\n",
    "df_path"
   ]
  },
  {
   "cell_type": "code",
   "execution_count": null,
   "metadata": {},
   "outputs": [],
   "source": [
    "# Versions\n",
    "column = 'pathway,version' # id, pathway, version, region, year, indicator, category, value, unit\n",
    "sql = text(\"\"\"\n",
    "    SELECT  'In' AS data, {3}, count(*) AS count\n",
    "    FROM    {0}.{1}\n",
    "    GROUP BY {3} \n",
    "    UNION ALL \n",
    "    SELECT  'Out' AS data, {3}, count(*) AS count\n",
    "    FROM    {0}.{2}\n",
    "    GROUP BY {3} \n",
    "    ORDER BY {3}; \"\"\".format(schema, table_in, table_out, column))\n",
    "df_ver = pd.read_sql_query(sql, con)\n",
    "df_ver"
   ]
  },
  {
   "cell_type": "code",
   "execution_count": null,
   "metadata": {},
   "outputs": [],
   "source": [
    "# Years\n",
    "column = 'year' # id, pathway, version, region, year, indicator, category, value, unit\n",
    "sql = text(\"\"\"\n",
    "    SELECT  'In' AS data, {3}, count(*) AS count\n",
    "    FROM    {0}.{1}\n",
    "    GROUP BY {3} \n",
    "    UNION ALL \n",
    "    SELECT  'Out' AS data, {3}, count(*) AS count\n",
    "    FROM    {0}.{2}\n",
    "    GROUP BY {3} \n",
    "    ORDER BY {3} ; \"\"\".format(schema, table_in, table_out, column))\n",
    "df_year = pd.read_sql_query(sql, con)\n",
    "df_year"
   ]
  },
  {
   "cell_type": "code",
   "execution_count": null,
   "metadata": {},
   "outputs": [],
   "source": [
    "# Regions\n",
    "column = 'region' # id, pathway, version, region, year, indicator, category, value, unit\n",
    "sql = text(\"\"\"\n",
    "    SELECT  'In' AS data, {3}, count(*) AS count\n",
    "    FROM    {0}.{1}\n",
    "    GROUP BY {3}\n",
    "    UNION ALL \n",
    "    SELECT  'Out' AS data, {3}, count(*) AS count\n",
    "    FROM    {0}.{2}\n",
    "    GROUP BY {3}; \"\"\".format(schema, table_in, table_out, column))\n",
    "df_reg = pd.read_sql_query(sql, con)\n",
    "df_reg"
   ]
  },
  {
   "cell_type": "code",
   "execution_count": null,
   "metadata": {},
   "outputs": [],
   "source": [
    "# Categories\n",
    "column = 'category' # id, pathway, version, region, year, indicator, category, value, unit\n",
    "sql = text(\"\"\"\n",
    "    SELECT  'In' AS data, {3}, count(*) AS count\n",
    "    FROM    {0}.{1}\n",
    "    GROUP BY {3} \n",
    "    UNION ALL \n",
    "    SELECT  'Out' AS data, {3}, count(*) AS count\n",
    "    FROM    {0}.{2}\n",
    "    GROUP BY {3}; \"\"\".format(schema, table_in, table_out, column))\n",
    "df_cat = pd.read_sql_query(sql, con)\n",
    "df_cat"
   ]
  },
  {
   "cell_type": "code",
   "execution_count": null,
   "metadata": {},
   "outputs": [],
   "source": [
    "# Indicators\n",
    "column = 'nid,category,indicator' # id, pathway, version, region, year, indicator, category, value, unit\n",
    "sql = text(\"\"\"\n",
    "    SELECT  'In' AS data, {3}, count(*) AS count\n",
    "    FROM    {0}.{1}\n",
    "    GROUP BY {3} \n",
    "    UNION ALL \n",
    "    SELECT  'Out' AS data, {3}, count(*) AS count\n",
    "    FROM    {0}.{2}\n",
    "    GROUP BY {3}\n",
    "    ORDER BY category, indicator, nid; \"\"\".format(schema, table_in, table_out, column))\n",
    "df_ind = pd.read_sql_query(sql, con)\n",
    "df_ind.index.names = ['rid']\n",
    "df_ind"
   ]
  },
  {
   "cell_type": "code",
   "execution_count": null,
   "metadata": {},
   "outputs": [],
   "source": [
    "# Write data as CSV file\n",
    "csvname = 'data/{0}/reeem_{0}_indicators.csv'.format(folder)\n",
    "df_ind.to_csv(csvname, sep=';')\n",
    "print(\"Data saved to file:\", csvname)"
   ]
  },
  {
   "cell_type": "code",
   "execution_count": null,
   "metadata": {},
   "outputs": [],
   "source": []
  },
  {
   "cell_type": "markdown",
   "metadata": {},
   "source": [
    "## Table metadata\n",
    "\n",
    "Access the metadata from the database tables and write metadata string as JSON file.<br>"
   ]
  },
  {
   "cell_type": "code",
   "execution_count": null,
   "metadata": {},
   "outputs": [],
   "source": [
    "# Input Metadata\n",
    "sql = text(\"\"\"SELECT obj_description('{0}.{1}'::regclass);\"\"\".format(schema, table_in))\n",
    "meta_in = pd.read_sql_query(sql, con).loc[:,'obj_description'].iloc[0]\n",
    "print(meta_in)\n",
    "\n",
    "# Save data to JSON file\n",
    "fname_in = 'data/{0}/{1}_metadata.json'.format(folder, table_in)\n",
    "with open(fname_in, 'w') as metafile:\n",
    "    json.dump(json.loads(meta_in), metafile, indent=4)\n",
    "    print(\"Data saved to file:\", fname_in)"
   ]
  },
  {
   "cell_type": "code",
   "execution_count": null,
   "metadata": {},
   "outputs": [],
   "source": [
    "# Output Metadata\n",
    "sql = text(\"\"\"SELECT obj_description('{0}.{1}'::regclass);\"\"\".format(schema, table_out))\n",
    "meta_out = pd.read_sql_query(sql, con).loc[:,'obj_description'].iloc[0]\n",
    "print(meta_out)\n",
    "\n",
    "# Save data to JSON file\n",
    "fname_out = 'data/{0}/{1}_metadata.json'.format(folder, table_out)\n",
    "with open(fname_out, 'w') as metafile:\n",
    "    json.dump(json.loads(meta_out), metafile, indent=4)\n",
    "    print(\"Data saved to file:\", fname_out)"
   ]
  },
  {
   "cell_type": "code",
   "execution_count": null,
   "metadata": {},
   "outputs": [],
   "source": []
  },
  {
   "cell_type": "code",
   "execution_count": null,
   "metadata": {},
   "outputs": [],
   "source": []
  }
 ],
 "metadata": {
  "kernelspec": {
   "display_name": "Python 3",
   "language": "python",
   "name": "python3"
  },
  "language_info": {
   "codemirror_mode": {
    "name": "ipython",
    "version": 3
   },
   "file_extension": ".py",
   "mimetype": "text/x-python",
   "name": "python",
   "nbconvert_exporter": "python",
   "pygments_lexer": "ipython3",
   "version": "3.6.5"
  }
 },
 "nbformat": 4,
 "nbformat_minor": 2
}
