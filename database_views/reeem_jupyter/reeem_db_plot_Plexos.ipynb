{
 "cells": [
  {
   "cell_type": "markdown",
   "metadata": {},
   "source": [
    "# Header\n",
    "\n",
    "<img src=\"http://reiner-lemoine-institut.de//wp-content/uploads/2015/09/rlilogo.png\" width=\"100\" style=\"float: right\">\n",
    "\n",
    "__copyright__ \t= \"© Reiner Lemoine Institut\" <br>\n",
    "__license__ \t= \"GNU Affero General Public License Version 3 (AGPL-3.0)\" <br>\n",
    "__url__ \t\t= \"https://www.gnu.org/licenses/agpl-3.0.en.html\" <br>\n",
    "__author__ \t\t= \"Ludwig Hülk\" <br>"
   ]
  },
  {
   "cell_type": "markdown",
   "metadata": {},
   "source": [
    "# Import"
   ]
  },
  {
   "cell_type": "code",
   "execution_count": null,
   "metadata": {},
   "outputs": [],
   "source": [
    "import sys\n",
    "import os\n",
    "import getpass\n",
    "import pandas as pd\n",
    "import numpy as np\n",
    "from sqlalchemy import *\n",
    "# plot\n",
    "import matplotlib.pyplot as plt\n",
    "import matplotlib.ticker as mticker\n",
    "import plotly.graph_objs as go\n",
    "import plotly.offline as pltly\n",
    "import colorlover as cl\n",
    "import seaborn as sns\n",
    "# notebook\n",
    "from IPython.display import Image\n",
    "from IPython.core.display import HTML \n",
    "\n",
    "pltly.init_notebook_mode(connected=True)\n",
    "%matplotlib inline\n",
    "\n",
    "version = 'v0.1.3 (jupyther)'\n",
    "project = 'REEEM'"
   ]
  },
  {
   "cell_type": "markdown",
   "metadata": {},
   "source": [
    "# Database Connection\n",
    "\n",
    "This function creates a database connection to the **reeem_db**.<br>\n",
    "The default user is **reeem_vis**, a user that has only read rights."
   ]
  },
  {
   "cell_type": "code",
   "execution_count": null,
   "metadata": {},
   "outputs": [],
   "source": [
    "def reeem_session():\n",
    "    \"\"\"SQLAlchemy session object with valid connection to reeem database\"\"\"\n",
    "    \n",
    "    print('Please provide connection parameters to database:\\n' +\n",
    "              'Hit [Enter] to take defaults')\n",
    "    host = '130.226.55.43' # input('host (default 130.226.55.43): ')\n",
    "    port = '5432' # input('port (default 5432): ')\n",
    "    database = 'reeem' # input(\"database name (default 'reeem'): \")\n",
    "    user = 'reeem_vis' # input('user (default postgres): ')\n",
    "    # password = input('password: ')\n",
    "    password = getpass.getpass(prompt='password: ',\n",
    "                                   stream=sys.stderr)\n",
    "    con = create_engine(\n",
    "            'postgresql://' + '%s:%s@%s:%s/%s' % (user,\n",
    "                                                  password,\n",
    "                                                  host,\n",
    "                                                  port,\n",
    "                                                  database)).connect()\n",
    "    print('Password correct! Database connection established.')\n",
    "    return con"
   ]
  },
  {
   "cell_type": "markdown",
   "metadata": {},
   "source": [
    "# Access Data\n",
    "\n",
    "This section establishes the database connection and asks for the **password**.<br>\n",
    "The username can be changed in the corresponding function in the section **Database Connection** above.<br>\n",
    "If you don't have a username or forgot your password please contact your database admins."
   ]
  },
  {
   "cell_type": "code",
   "execution_count": null,
   "metadata": {},
   "outputs": [],
   "source": [
    "con = reeem_session()"
   ]
  },
  {
   "cell_type": "markdown",
   "metadata": {},
   "source": [
    "# Table Info"
   ]
  },
  {
   "cell_type": "markdown",
   "metadata": {},
   "source": [
    "## Database Query\n",
    "\n",
    "This section is used to query one specific database table (**db_table**).<br>\n",
    "The result is saved to a pandas.DataFrame (**df**) and printed."
   ]
  },
  {
   "cell_type": "code",
   "execution_count": null,
   "metadata": {},
   "outputs": [],
   "source": [
    "# Number of entries in table\n",
    "schema = 'model_draft'\n",
    "db_table_in = 'reeem_plexos_input'\n",
    "db_table_out = 'reeem_plexos_output'\n",
    "sql = text(\"\"\"\n",
    "    SELECT  'In' AS data, count(*) AS count\n",
    "    FROM    {0}.{1}\n",
    "    UNION ALL\n",
    "    SELECT  'Out' AS data, count(*) AS count\n",
    "    FROM    {0}.{2}\"\"\".format(schema, db_table_in, db_table_out))\n",
    "df = pd.read_sql_query(sql, con)\n",
    "df"
   ]
  },
  {
   "cell_type": "code",
   "execution_count": null,
   "metadata": {},
   "outputs": [],
   "source": [
    "# Pathways\n",
    "column = 'pathway' # id, pathway, version, region, year, indicator, category, value, unit\n",
    "sql = text(\"\"\"\n",
    "    SELECT  'In' AS data, {3}, count(*) AS count\n",
    "    FROM    {0}.{1}\n",
    "    GROUP BY {3} \n",
    "    UNION ALL \n",
    "    SELECT  'Out' AS data, {3}, count(*) AS count\n",
    "    FROM    {0}.{2}\n",
    "    GROUP BY {3} \n",
    "    ORDER BY {3}; \"\"\".format(schema, db_table_in, db_table_out, column))\n",
    "df = pd.read_sql_query(sql, con)\n",
    "df"
   ]
  },
  {
   "cell_type": "code",
   "execution_count": null,
   "metadata": {},
   "outputs": [],
   "source": [
    "# Versions\n",
    "column = 'pathway,version' # id, pathway, version, region, year, indicator, category, value, unit\n",
    "sql = text(\"\"\"\n",
    "    SELECT  'In' AS data, {3}, count(*) AS count\n",
    "    FROM    {0}.{1}\n",
    "    GROUP BY {3} \n",
    "    UNION ALL \n",
    "    SELECT  'Out' AS data, {3}, count(*) AS count\n",
    "    FROM    {0}.{2}\n",
    "    GROUP BY {3} \n",
    "    ORDER BY {3}; \"\"\".format(schema, db_table_in, db_table_out, column))\n",
    "df = pd.read_sql_query(sql, con)\n",
    "df"
   ]
  },
  {
   "cell_type": "code",
   "execution_count": null,
   "metadata": {},
   "outputs": [],
   "source": [
    "# Years\n",
    "column = 'year' # id, pathway, version, region, year, indicator, category, value, unit\n",
    "sql = text(\"\"\"\n",
    "    SELECT  'In' AS data, {3}, count(*) AS count\n",
    "    FROM    {0}.{1}\n",
    "    GROUP BY {3} \n",
    "    UNION ALL \n",
    "    SELECT  'Out' AS data, {3}, count(*) AS count\n",
    "    FROM    {0}.{2}\n",
    "    GROUP BY {3} ; \"\"\".format(schema, db_table_in, db_table_out, column))\n",
    "df = pd.read_sql_query(sql, con)\n",
    "df"
   ]
  },
  {
   "cell_type": "code",
   "execution_count": null,
   "metadata": {},
   "outputs": [],
   "source": [
    "# Regions\n",
    "column = 'region' # id, pathway, version, region, year, indicator, category, value, unit\n",
    "sql = text(\"\"\"\n",
    "    SELECT  'In' AS data, {3}, count(*) AS count\n",
    "    FROM    {0}.{1}\n",
    "    GROUP BY {3}\n",
    "    UNION ALL \n",
    "    SELECT  'Out' AS data, {3}, count(*) AS count\n",
    "    FROM    {0}.{2}\n",
    "    GROUP BY {3}; \"\"\".format(schema, db_table_in, db_table_out, column))\n",
    "df = pd.read_sql_query(sql, con)\n",
    "df"
   ]
  },
  {
   "cell_type": "code",
   "execution_count": null,
   "metadata": {},
   "outputs": [],
   "source": [
    "# Categories\n",
    "column = 'category' # id, pathway, version, region, year, indicator, category, value, unit\n",
    "sql = text(\"\"\"\n",
    "    SELECT  'In' AS data, {3}, count(*) AS count\n",
    "    FROM    {0}.{1}\n",
    "    GROUP BY {3} \n",
    "    UNION ALL \n",
    "    SELECT  'Out' AS data, {3}, count(*) AS count\n",
    "    FROM    {0}.{2}\n",
    "    GROUP BY {3}; \"\"\".format(schema, db_table_in, db_table_out, column))\n",
    "df = pd.read_sql_query(sql, con)\n",
    "df"
   ]
  },
  {
   "cell_type": "code",
   "execution_count": null,
   "metadata": {},
   "outputs": [],
   "source": [
    "# Indicators\n",
    "column = 'nid,category,indicator' # id, pathway, version, region, year, indicator, category, value, unit\n",
    "sql = text(\"\"\"\n",
    "    SELECT  'In' AS data, {3}, count(*) AS count\n",
    "    FROM    {0}.{1}\n",
    "    GROUP BY {3} \n",
    "    UNION ALL \n",
    "    SELECT  'Out' AS data, {3}, count(*) AS count\n",
    "    FROM    {0}.{2}\n",
    "    GROUP BY {3}\n",
    "    ORDER BY data,{3}; \"\"\".format(schema, db_table_in, db_table_out, column))\n",
    "df_ind = pd.read_sql_query(sql, con)\n",
    "df_ind"
   ]
  },
  {
   "cell_type": "code",
   "execution_count": null,
   "metadata": {},
   "outputs": [],
   "source": [
    "# Save data to CSV\n",
    "csvname = 'data/reeem_times_output_indicators.csv'\n",
    "df_ind.to_csv(csvname, sep=';')\n",
    "print(\"Data saved to file:\", csvname)"
   ]
  },
  {
   "cell_type": "code",
   "execution_count": null,
   "metadata": {},
   "outputs": [],
   "source": []
  },
  {
   "cell_type": "markdown",
   "metadata": {},
   "source": [
    "# View 0.3: Table metadata\n",
    "## Database Query\n",
    "\n",
    "This section can be used to get the metadata from one database table.<br>\n",
    "The result is printed.<br>"
   ]
  },
  {
   "cell_type": "code",
   "execution_count": null,
   "metadata": {},
   "outputs": [],
   "source": [
    "# Database select (SQL)\n",
    "sql = text(\"\"\"SELECT obj_description('{0}'::regclass);\"\"\".format(db_table))\n",
    "df_meta = pd.read_sql_query(sql, con).loc[:,'obj_description']\n",
    "df_meta"
   ]
  },
  {
   "cell_type": "markdown",
   "metadata": {},
   "source": [
    "# View 3: One indicator for all regions in one pathway over time"
   ]
  },
  {
   "cell_type": "markdown",
   "metadata": {},
   "source": [
    "## Database Query\n",
    "\n",
    "This section can be used to query one specific **indicator** for all regions from one database table (_table_).<br>\n",
    "Indicators are identified by the **nid** (_filter 1_).<br>\n",
    "Only **region** _EU28_ is excluded (_filter 2_).<br>\n",
    "It is possible to select one specific **pathway** (_filter 3_) and one specific data **version** (_filter 4_).<br>\n",
    "To querry additional coulmns from the database table add the names to the **SELECT** statement (_column_).<br>\n",
    "The sortation is done by the **ORDER BY** (_sorting_).<br>\n",
    "The result from the database is saved to a pandas.DataFrame (**df_3**) and can be printed."
   ]
  },
  {
   "cell_type": "code",
   "execution_count": null,
   "metadata": {},
   "outputs": [],
   "source": [
    "# Database select (SQL)\n",
    "sql = text(\"\"\"\n",
    "    SELECT  pathway, version, region, year, nid, schema, category, indicator, value, unit  -- column\n",
    "    FROM    model_draft.reeem_plexos_input -- table\n",
    "    WHERE nid = 1                                 -- filter 1\n",
    "        AND pathway = 'Base'                      -- filter 2\n",
    "        AND version = 'DataV1'                    -- filter 3\n",
    "    ORDER BY pathway, version, region, year;      -- sorting \"\"\")\n",
    "df_3 = pd.read_sql_query(sql, con)\n",
    "#df_3"
   ]
  },
  {
   "cell_type": "markdown",
   "metadata": {},
   "source": [
    "## Metadata\n",
    "\n",
    "The important information from the above select (**df_3**) is collected in a Dictionary (**info_dict_3**)."
   ]
  },
  {
   "cell_type": "code",
   "execution_count": null,
   "metadata": {},
   "outputs": [],
   "source": [
    "# Facts dict\n",
    "info_dict_3 = {}\n",
    "info_dict_3['Filename'] = ['{0}_reeem_Plexos_allregions_{1}' .format(\n",
    "    pd.to_datetime('today').strftime(\"%Y-%m-%d\"),\n",
    "    df_3.loc[:,'indicator'].unique()[0])]\n",
    "info_dict_3['Category'] = df_3.loc[:,'category'].unique()\n",
    "info_dict_3['Indicator'] = df_3.loc[:,'indicator'].unique()\n",
    "info_dict_3['Unit'] = df_3.loc[:,'unit'].unique()\n",
    "info_dict_3['Pathway'] = df_3.loc[:,'pathway'].unique()\n",
    "info_dict_3['Year'] = df_3.loc[:,'year'].unique().tolist()\n",
    "info_dict_3['Region'] = df_3.loc[:,'region'].unique()\n",
    "info_dict_3['Y-Axis'] = ['{} in {}'.format(*info_dict_3['Indicator'], *info_dict_3['Unit'])]\n",
    "info_dict_3['Title'] = ['{} in all regions'.format(*info_dict_3['Category'])]\n",
    "info_dict_3['Metadata'] = df_meta\n",
    "\n",
    "# Print facts\n",
    "for x in info_dict_3:\n",
    "    print(x,':',info_dict_3[x])"
   ]
  },
  {
   "cell_type": "markdown",
   "metadata": {},
   "source": [
    "## Stack data\n",
    "\n",
    "This pivot function reorganises the data and makes each pathway a column. The year is used as the index.<br>\n",
    "The result is saved to a new dataframe (**df_3p**) and can be printed."
   ]
  },
  {
   "cell_type": "code",
   "execution_count": null,
   "metadata": {},
   "outputs": [],
   "source": [
    "# Reshape dataframe\n",
    "df_3p = df_3.pivot(index='region', columns='indicator',  values='value')\n",
    "#df_3p"
   ]
  },
  {
   "cell_type": "markdown",
   "metadata": {},
   "source": [
    "## Plot\n",
    "\n",
    "This is a basic plot with [matplotlib](https://matplotlib.org/).<br>\n",
    "The title and y-axis labels are taken from the **info_dict_3**. They can be exchanged with manual text."
   ]
  },
  {
   "cell_type": "code",
   "execution_count": null,
   "metadata": {},
   "outputs": [],
   "source": [
    "# Plot for one indicator and one pathway\n",
    "fig = plt.figure(figsize=(12, 10))\n",
    "ax = plt.subplot()\n",
    "# plt.title(r'CO2-Emissions in all regions', fontsize=16)  # Manual title\n",
    "plt.title(*info_dict_3['Title'], fontsize=16)         # Title from info\n",
    "# plt.ylabel(r'CO2-Emissions in Mt')                # Manual label\n",
    "plt.ylabel(*info_dict_3['Y-Axis'])                    # Label from info\n",
    "plt.plot(df_3p, \n",
    "         marker=\"o\",  markersize=5)\n",
    "plt.legend(df_3p)\n",
    "ax.set_ylim(ymin=0)"
   ]
  },
  {
   "cell_type": "markdown",
   "metadata": {},
   "source": [
    "## Interactive Plot\n",
    "\n",
    "This is a basic interactive plot with [Plotly](https://plot.ly/python/).<br>\n",
    "You can hover over the elements of the plot and observe the data.<br>\n",
    "The different pathways can be switched on and off."
   ]
  },
  {
   "cell_type": "code",
   "execution_count": null,
   "metadata": {},
   "outputs": [],
   "source": [
    "# Iterate over pathways and add to data\n",
    "regions = df_3.loc[:,'region'].unique()\n",
    "data = []\n",
    "for region in regions:\n",
    "    data.append(go.Scatter(\n",
    "        x = df_3.loc[df_3['region'] == region].loc[:,'region'],\n",
    "        y = df_3.loc[df_3['region'] == region].loc[:,'value'],\n",
    "        name = region))\n",
    "\n",
    "# Set layout\n",
    "layout = go.Layout(\n",
    "    height=800, width = 800,\n",
    "    #title='CO2-Emissions in EU28',\n",
    "    title=''.join(info_dict_3['Title']),\n",
    "    # yaxis=dict(title='CO2-Emissions in Mt') )\n",
    "    yaxis=dict(title=''.join(info_dict_3['Y-Axis'])) )\n",
    "ifig = go.Figure(data=data, layout=layout)\n",
    "pltly.iplot(ifig)"
   ]
  },
  {
   "cell_type": "markdown",
   "metadata": {},
   "source": [
    "## Save results to files\n",
    "\n",
    "The results are saved to cooresponding files in a folder named **data**.<br>\n",
    "The **info_dict** is saved to a text file (txt).<br>\n",
    "The **data** is saved to a table (csv).<br>\n",
    "The **plot** is saved as an image (png).<br>\n",
    "The **interactive plot** is saved as a webpage (html). It will also open in a new tab of your browser.<br>"
   ]
  },
  {
   "cell_type": "code",
   "execution_count": null,
   "metadata": {},
   "outputs": [],
   "source": [
    "# Write facts to textfile\n",
    "filename = ('data/{}.txt').format(*info_dict_3['Filename'])\n",
    "with open(filename,'w') as tfile:\n",
    "    for i in info_dict_3.keys():\n",
    "        tfile.write(i + \": \" + ', '.join([str(x) for x in info_dict_3[i]]) + \"\\n\")\n",
    "tfile.close()\n",
    "print(\"Facts saved to file:\", filename)\n",
    "\n",
    "# Save data to CSV\n",
    "csvname = 'data/{}.csv' .format(*info_dict_3['Filename'])\n",
    "df_3.to_csv(csvname, sep=';')\n",
    "print(\"Data saved to file:\", csvname)\n",
    "\n",
    "# Save pivot data to CSV\n",
    "csvname = 'data/{}_pivot.csv' .format(*info_dict_3['Filename'])\n",
    "df_3p.to_csv(csvname, sep=';')\n",
    "print(\"Data saved to file:\", csvname)\n",
    "\n",
    "# Save plot as file\n",
    "plotname = 'data/{}.png' .format(*info_dict_3['Filename'])\n",
    "fig.savefig(plotname, bbox_inches='tight')\n",
    "print(\"Plot saved to file:\", plotname)\n",
    "\n",
    "# Save interactive plot\n",
    "htmlname = 'data/{}.html' .format(*info_dict_3['Filename'])\n",
    "pltly.plot(ifig, filename=htmlname)\n",
    "print(\"Interactive plot saved to file:\", htmlname)"
   ]
  },
  {
   "cell_type": "code",
   "execution_count": null,
   "metadata": {},
   "outputs": [],
   "source": []
  },
  {
   "cell_type": "markdown",
   "metadata": {},
   "source": [
    "# View 4: All indicators for one region in one pathway over time"
   ]
  },
  {
   "cell_type": "markdown",
   "metadata": {},
   "source": [
    "## Database Query\n",
    "\n",
    "This section can be used to query all **indicators** for one **region** (_filter 2_) from one database table (_table_).<br>\n",
    "Indicators are identified by the **nid**.<br>\n",
    "It is possible to select one specific **pathway** (_filter 3_) and one specific data **version** (_filter 4_).<br>\n",
    "To querry additional coulmns from the database table add the names to the **SELECT** statement (_column_).<br>\n",
    "The sortation is done by the **ORDER BY** (_sorting_).<br>\n",
    "The result from the database is saved to a pandas.DataFrame (**df_4**) and can be printed."
   ]
  },
  {
   "cell_type": "code",
   "execution_count": null,
   "metadata": {},
   "outputs": [],
   "source": [
    "# Database select (SQL)\n",
    "sql = text(\"\"\"\n",
    "    SELECT  pathway, version, region, year, nid, indicator, category, value, unit  -- column\n",
    "    FROM    model_draft.reeem_plexos_input\n",
    "    WHERE   category = 'Installed Generation Capacities'\n",
    "        AND region = 'BG'\n",
    "        AND pathway = 'Base'\n",
    "        AND version = 'DataV1'\n",
    "    ORDER BY pathway, version, year, region, nid; \"\"\")\n",
    "df_4 = pd.read_sql_query(sql, con)\n",
    "#print(df_4)"
   ]
  },
  {
   "cell_type": "markdown",
   "metadata": {},
   "source": [
    "## Metadata\n",
    "\n",
    "The important information from the above select (**df_4**) is collected in a Dictionary (**info_dict_4**)."
   ]
  },
  {
   "cell_type": "code",
   "execution_count": null,
   "metadata": {},
   "outputs": [],
   "source": [
    "# Facts dict\n",
    "info_dict_4 = {}\n",
    "info_dict_4['Filename'] = ['{0}_reeem_Plexos_allindicators_{1}' .format(\n",
    "    pd.to_datetime('today').strftime(\"%Y-%m-%d\"),\n",
    "    df_4.loc[:,'region'].unique()[0])]\n",
    "info_dict_4['Category'] = df_4.loc[:,'category'].unique()\n",
    "info_dict_4['Indicator'] = df_4.loc[:,'indicator'].unique()\n",
    "info_dict_4['Unit'] = df_4.loc[:,'unit'].unique()\n",
    "info_dict_4['Pathway'] = df_4.loc[:,'pathway'].unique()\n",
    "info_dict_4['Year'] = df_4.loc[:,'year'].unique().tolist()\n",
    "info_dict_4['Region'] = df_4.loc[:,'region'].unique()\n",
    "info_dict_4['Y-Axis'] = ['{} in {}'.format(*info_dict_4['Category'],*info_dict_4['Unit'])]\n",
    "info_dict_4['Title'] = ['{} in region {}'.format(*info_dict_4['Category'],*info_dict_4['Region'])]\n",
    "info_dict_4['Metadata'] = df_meta\n",
    "\n",
    "# Print facts\n",
    "for x in info_dict_4:\n",
    "    print(x,':',info_dict_4[x])"
   ]
  },
  {
   "cell_type": "markdown",
   "metadata": {},
   "source": [
    "## Stack data\n",
    "\n",
    "This pivot function reorganises the data and makes each year a column. The indicator is used as the index.<br>\n",
    "The result is saved to a new dataframe (**df_4p**) and can be printed."
   ]
  },
  {
   "cell_type": "code",
   "execution_count": null,
   "metadata": {},
   "outputs": [],
   "source": [
    "# Reshape dataframe\n",
    "df_4p = df_4.pivot(index='indicator', columns='region',  values='value')\n",
    "#df_4p"
   ]
  },
  {
   "cell_type": "markdown",
   "metadata": {},
   "source": [
    "## Plot\n",
    "\n",
    "This is a basic plot with [matplotlib](https://matplotlib.org/).<br>\n",
    "The title and y-axis labels are taken from the **info_dict_4**. They can be exchanged with manual text."
   ]
  },
  {
   "cell_type": "code",
   "execution_count": null,
   "metadata": {},
   "outputs": [],
   "source": [
    "# Plot for one indicator and one pathway\n",
    "fig = plt.figure(figsize=(12, 10))\n",
    "ax = plt.subplot()\n",
    "# plt.title(r'All indicators in region {}', fontsize=16)   # Manual title\n",
    "plt.title(*info_dict_4['Title'], fontsize=16)         # Title from info\n",
    "# plt.ylabel(r'CO2-Emissions in Mt')                # Manual label\n",
    "plt.ylabel(*info_dict_4['Y-Axis'])                    # Label from info\n",
    "plt.plot(df_4p, \n",
    "         marker=\"o\",  markersize=5)\n",
    "plt.legend(df_4p)\n",
    "ax.set_ylim(ymin=0)"
   ]
  },
  {
   "cell_type": "markdown",
   "metadata": {},
   "source": [
    "## Interactive Plot\n",
    "\n",
    "This is a basic interactive plot with [Plotly](https://plot.ly/python/).<br>\n",
    "You can hover over the elements of the plot and observe the data.<br>\n",
    "The different pathways can be switched on and off."
   ]
  },
  {
   "cell_type": "code",
   "execution_count": null,
   "metadata": {},
   "outputs": [],
   "source": [
    "# Iterate over pathways and add to data\n",
    "indicators = df_4.loc[:,'indicator'].unique()\n",
    "data = []\n",
    "for indicator in indicators:\n",
    "    data.append(go.Scatter(\n",
    "        x = df_4.loc[df_4['indicator'] == indicator].loc[:,'region'],\n",
    "        y = df_4.loc[df_4['indicator'] == indicator].loc[:,'value'],\n",
    "        name = indicator))\n",
    "\n",
    "# Set layout\n",
    "layout = go.Layout(\n",
    "    height=800, width = 800,\n",
    "    #title='CO2-Emissions in EU28',\n",
    "    title=''.join(info_dict_4['Title']),\n",
    "    # yaxis=dict(title='CO2-Emissions in Mt') )\n",
    "    yaxis=dict(title=''.join(info_dict_4['Y-Axis'])) )\n",
    "ifig = go.Figure(data=data, layout=layout)\n",
    "pltly.iplot(ifig)"
   ]
  },
  {
   "cell_type": "markdown",
   "metadata": {},
   "source": [
    "## Save results to files\n",
    "\n",
    "The results are saved to cooresponding files in a folder named **data**.<br>\n",
    "The **info_dict** is saved to a text file (txt).<br>\n",
    "The **data** is saved to a table (csv).<br>\n",
    "The **plot** is saved as an image (png).<br>\n",
    "The **interactive plot** is saved as a webpage (html). It will also open in a new tab of your browser.<br>"
   ]
  },
  {
   "cell_type": "code",
   "execution_count": null,
   "metadata": {},
   "outputs": [],
   "source": [
    "# Write facts to textfile\n",
    "filename = ('data/{}.txt').format(*info_dict_4['Filename'])\n",
    "with open(filename,'w') as tfile:\n",
    "    for i in info_dict_4.keys():\n",
    "        tfile.write(i + \": \" + ', '.join([str(x) for x in info_dict_4[i]]) + \"\\n\")\n",
    "tfile.close()\n",
    "print(\"Facts saved to file:\", filename)\n",
    "\n",
    "# Save data to CSV\n",
    "csvname = 'data/{}.csv' .format(*info_dict_4['Filename'])\n",
    "df_4.to_csv(csvname, sep=';')\n",
    "print(\"Data saved to file:\", csvname)\n",
    "\n",
    "# Save pivot data to CSV\n",
    "csvname = 'data/{}_pivot.csv' .format(*info_dict_4['Filename'])\n",
    "df_4p.to_csv(csvname, sep=';')\n",
    "print(\"Data saved to file:\", csvname)\n",
    "\n",
    "# Save plot as file\n",
    "plotname = 'data/{}.png' .format(*info_dict_4['Filename'])\n",
    "fig.savefig(plotname, bbox_inches='tight')\n",
    "print(\"Plot saved to file:\", plotname)\n",
    "\n",
    "# Save interactive plot\n",
    "htmlname = 'data/{}.html' .format(*info_dict_4['Filename'])\n",
    "pltly.plot(ifig, filename=htmlname)\n",
    "print(\"Interactive plot saved to file:\", htmlname)"
   ]
  },
  {
   "cell_type": "code",
   "execution_count": null,
   "metadata": {},
   "outputs": [],
   "source": []
  }
 ],
 "metadata": {
  "kernelspec": {
   "display_name": "Python 3",
   "language": "python",
   "name": "python3"
  },
  "language_info": {
   "codemirror_mode": {
    "name": "ipython",
    "version": 3
   },
   "file_extension": ".py",
   "mimetype": "text/x-python",
   "name": "python",
   "nbconvert_exporter": "python",
   "pygments_lexer": "ipython3",
   "version": "3.6.5"
  }
 },
 "nbformat": 4,
 "nbformat_minor": 2
}
