{
 "cells": [
  {
   "cell_type": "markdown",
   "metadata": {},
   "source": [
    "# Header\n",
    "\n",
    "<img src=\"http://reiner-lemoine-institut.de//wp-content/uploads/2015/09/rlilogo.png\" width=\"100\" style=\"float: right\">\n",
    "\n",
    "__copyright__ \t= \"© Reiner Lemoine Institut\" <br>\n",
    "__license__ \t= \"GNU Affero General Public License Version 3 (AGPL-3.0)\" <br>\n",
    "__url__ \t\t= \"https://www.gnu.org/licenses/agpl-3.0.en.html\" <br>\n",
    "__author__ \t\t= \"Ludwig Hülk\" <br>"
   ]
  },
  {
   "cell_type": "markdown",
   "metadata": {},
   "source": [
    "# Import"
   ]
  },
  {
   "cell_type": "code",
   "execution_count": null,
   "metadata": {},
   "outputs": [],
   "source": [
    "import sys\n",
    "import os\n",
    "import getpass\n",
    "import pandas as pd\n",
    "import numpy as np\n",
    "from sqlalchemy import *\n",
    "# plot\n",
    "import matplotlib.pyplot as plt\n",
    "import matplotlib.ticker as mticker\n",
    "import plotly.graph_objs as go\n",
    "import plotly.offline as pltly\n",
    "import colorlover as cl\n",
    "import seaborn as sns\n",
    "# notebook\n",
    "from IPython.display import Image\n",
    "from IPython.core.display import HTML \n",
    "\n",
    "pltly.init_notebook_mode(connected=True)\n",
    "%matplotlib inline\n",
    "\n",
    "version = 'v0.1.3 (jupyter)'\n",
    "project = 'REEEM'"
   ]
  },
  {
   "cell_type": "markdown",
   "metadata": {},
   "source": [
    "# Database Connection\n",
    "\n",
    "This function creates a database connection to the **reeem_db**.<br>\n",
    "The default user is **reeem_vis**, a user that has only read rights."
   ]
  },
  {
   "cell_type": "code",
   "execution_count": null,
   "metadata": {},
   "outputs": [],
   "source": [
    "def reeem_session():\n",
    "    \"\"\"SQLAlchemy session object with valid connection to reeem database\"\"\"\n",
    "    \n",
    "    print('Please provide connection parameters to database:\\n' +\n",
    "              'Hit [Enter] to take defaults')\n",
    "    host = '130.226.55.43' # input('host (default 130.226.55.43): ')\n",
    "    port = '5432' # input('port (default 5432): ')\n",
    "    database = 'reeem' # input(\"database name (default 'reeem'): \")\n",
    "    user = 'reeem_vis' # input('user (default postgres): ')\n",
    "    # password = input('password: ')\n",
    "    password = getpass.getpass(prompt='password: ',\n",
    "                                   stream=sys.stderr)\n",
    "    con = create_engine(\n",
    "            'postgresql://' + '%s:%s@%s:%s/%s' % (user,\n",
    "                                                  password,\n",
    "                                                  host,\n",
    "                                                  port,\n",
    "                                                  database)).connect()\n",
    "    print('Password correct! Database connection established.')\n",
    "    return con"
   ]
  },
  {
   "cell_type": "markdown",
   "metadata": {},
   "source": [
    "# Access Data\n",
    "\n",
    "This section establishes the database connection and asks for the **password**.<br>\n",
    "The username can be changed in the corresponding function in the section **Database Connection** above.<br>\n",
    "If you don't have a username or forgot your password please contact your database admins."
   ]
  },
  {
   "cell_type": "code",
   "execution_count": null,
   "metadata": {},
   "outputs": [],
   "source": [
    "con = reeem_session()"
   ]
  },
  {
   "cell_type": "markdown",
   "metadata": {},
   "source": [
    "# Table Info"
   ]
  },
  {
   "cell_type": "markdown",
   "metadata": {},
   "source": [
    "## Database Query\n",
    "\n",
    "This section is used to query one specific database table (**db_table**).<br>\n",
    "The result is saved to a pandas.DataFrame (**df**) and printed."
   ]
  },
  {
   "cell_type": "code",
   "execution_count": null,
   "metadata": {},
   "outputs": [],
   "source": [
    "# Number of entries in table\n",
    "db_table = 'model_draft.reeem_times_paneu_output'\n",
    "sql = text(\"\"\"\n",
    "    SELECT  count(*) AS count\n",
    "    FROM    {0}\"\"\".format(db_table))\n",
    "df = pd.read_sql_query(sql, con)\n",
    "df"
   ]
  },
  {
   "cell_type": "code",
   "execution_count": null,
   "metadata": {},
   "outputs": [],
   "source": [
    "# Pathways\n",
    "column = 'pathway' # id, pathway, version, region, year, indicator, category, value, unit\n",
    "sql = text(\"\"\"\n",
    "    SELECT  {1}, count(*) AS count\n",
    "    FROM    {0}\n",
    "    GROUP BY {1} \n",
    "    ORDER BY {1}; \"\"\".format(db_table,column))\n",
    "df = pd.read_sql_query(sql, con)\n",
    "df"
   ]
  },
  {
   "cell_type": "code",
   "execution_count": null,
   "metadata": {},
   "outputs": [],
   "source": [
    "# Years\n",
    "column = 'year' # id, pathway, version, region, year, indicator, category, value, unit\n",
    "sql = text(\"\"\"\n",
    "    SELECT  {1}, count(*) AS count\n",
    "    FROM    {0} \n",
    "    GROUP BY {1} \n",
    "    ORDER BY {1}; \"\"\".format(db_table,column))\n",
    "df = pd.read_sql_query(sql, con)\n",
    "df"
   ]
  },
  {
   "cell_type": "code",
   "execution_count": null,
   "metadata": {},
   "outputs": [],
   "source": [
    "# Regions\n",
    "column = 'region' # id, pathway, version, region, year, indicator, category, value, unit\n",
    "sql = text(\"\"\"\n",
    "    SELECT  {1}, count(*) AS count\n",
    "    FROM    {0}\n",
    "    GROUP BY {1} \n",
    "    ORDER BY {1}; \"\"\".format(db_table,column))\n",
    "df = pd.read_sql_query(sql, con)\n",
    "df"
   ]
  },
  {
   "cell_type": "code",
   "execution_count": null,
   "metadata": {},
   "outputs": [],
   "source": [
    "# Categories\n",
    "column = 'category' # id, pathway, version, region, year, indicator, category, value, unit\n",
    "sql = text(\"\"\"\n",
    "    SELECT  {1}, count(*) AS count\n",
    "    FROM    {0}\n",
    "    GROUP BY {1} \n",
    "    ORDER BY {1}; \"\"\".format(db_table,column))\n",
    "df = pd.read_sql_query(sql, con)\n",
    "df"
   ]
  },
  {
   "cell_type": "code",
   "execution_count": null,
   "metadata": {},
   "outputs": [],
   "source": [
    "# Indicators\n",
    "column = 'category,indicator,nid' # id, pathway, version, region, year, indicator, category, value, unit\n",
    "sql = text(\"\"\"\n",
    "    SELECT  {1}, count(*) AS count\n",
    "    FROM    {0}\n",
    "    GROUP BY {1} \n",
    "    ORDER BY {1}; \"\"\".format(db_table,column))\n",
    "df_ind = pd.read_sql_query(sql, con)\n",
    "df_ind"
   ]
  },
  {
   "cell_type": "code",
   "execution_count": null,
   "metadata": {},
   "outputs": [],
   "source": [
    "# Save data to CSV\n",
    "csvname = 'data/reeem_times_output_indicators.csv'\n",
    "df_ind.to_csv(csvname, sep=';')\n",
    "print(\"Data saved to file:\", csvname)"
   ]
  },
  {
   "cell_type": "markdown",
   "metadata": {},
   "source": [
    "# View 0.3: Table metadata\n",
    "## Database Query\n",
    "\n",
    "This section can be used to get the metadata from one database table.<br>\n",
    "The result is printed.<br>"
   ]
  },
  {
   "cell_type": "code",
   "execution_count": null,
   "metadata": {},
   "outputs": [],
   "source": [
    "# Database select (SQL)\n",
    "sql = text(\"\"\"SELECT obj_description('{0}'::regclass);\"\"\".format(db_table))\n",
    "df_meta = pd.read_sql_query(sql, con).loc[:,'obj_description']\n",
    "df_meta"
   ]
  },
  {
   "cell_type": "code",
   "execution_count": null,
   "metadata": {},
   "outputs": [],
   "source": []
  },
  {
   "cell_type": "markdown",
   "metadata": {},
   "source": [
    "# View 5: All indicators for all regions in one pathway over time"
   ]
  },
  {
   "cell_type": "markdown",
   "metadata": {},
   "source": [
    "## Database Query\n",
    "\n",
    "This section can be used to query all **indicator** for all regions from one database table (_table_).<br>\n",
    "It is possible to select one specific **pathway** (_filter 1_) and one specific data **version** (_filter 2_).<br>\n",
    "To querry additional coulmns from the database table add the names to the **SELECT** statement (_column_).<br>\n",
    "The sortation is done by the **ORDER BY** (_sorting_).<br>\n",
    "The result from the database is saved to a pandas.DataFrame (**df_5**) and can be printed."
   ]
  },
  {
   "cell_type": "code",
   "execution_count": null,
   "metadata": {},
   "outputs": [],
   "source": [
    "# Database select (SQL)\n",
    "sql = text(\"\"\"\n",
    "    SELECT  id, nid, pathway, framework, version, \n",
    "        region, year, category, indicator, value, \n",
    "        unit, aggregation, updated  -- column\n",
    "    FROM    model_draft.reeem_times_paneu_output  -- table\n",
    "    WHERE pathway = 'Base'                        -- filter 1\n",
    "        AND version = 'DataV1'                    -- filter 2\n",
    "    ORDER BY pathway, version, region, year;      -- sorting \"\"\")\n",
    "df_5 = pd.read_sql_query(sql, con)\n",
    "df_5.head(5)"
   ]
  },
  {
   "cell_type": "markdown",
   "metadata": {},
   "source": [
    "## Metadata\n",
    "\n",
    "The important information from the above select (**df_5**) is collected in a Dictionary (**info_dict_5**)."
   ]
  },
  {
   "cell_type": "code",
   "execution_count": null,
   "metadata": {
    "scrolled": true
   },
   "outputs": [],
   "source": [
    "# Facts dict\n",
    "info_dict_5 = {}\n",
    "info_dict_5['Updated'] = [x.strftime(\"%Y-%m-%d\") for x in df_5.loc[:,'updated'].unique()]\n",
    "info_dict_5['Filename'] = ['{0}_{1}_TIMESPanEU_{2}_{3}_Output' .format(\n",
    "    info_dict_5['Updated'][0],\n",
    "    df_5.loc[:,'pathway'].unique()[0],\n",
    "    df_5.loc[:,'framework'].unique()[0],\n",
    "    df_5.loc[:,'version'].unique()[0])]\n",
    "#info_dict_5['Category'] = df_5.loc[:,'category'].unique()\n",
    "#info_dict_5['Indicator'] = df_5.loc[:,'indicator'].unique()\n",
    "#info_dict_5['Unit'] = df_5.loc[:,'unit'].unique()\n",
    "info_dict_5['Pathway'] = df_5.loc[:,'pathway'].unique()\n",
    "info_dict_5['Version'] = df_5.loc[:,'version'].unique()\n",
    "info_dict_5['Year'] = df_5.loc[:,'year'].unique().tolist()\n",
    "info_dict_5['Region'] = df_5.loc[:,'region'].unique()\n",
    "#info_dict_5['Y-Axis'] = ['{} in {}'.format(*info_dict_5['Indicator'], *info_dict_5['Unit'])]\n",
    "#info_dict_5['Title'] = ['{} in all regions'.format(*info_dict_5['Category'])]\n",
    "info_dict_5['Metadata'] = df_meta\n",
    "\n",
    "# Print facts\n",
    "for x in info_dict_5:\n",
    "    print(x,':',info_dict_5[x])"
   ]
  },
  {
   "cell_type": "markdown",
   "metadata": {},
   "source": [
    "## Save results to files\n",
    "\n",
    "The results are saved to cooresponding files in a folder named **data**.<br>\n",
    "The **info_dict** is saved to a text file (txt).<br>\n",
    "The **data** is saved to a table (csv).<br>"
   ]
  },
  {
   "cell_type": "code",
   "execution_count": null,
   "metadata": {},
   "outputs": [],
   "source": [
    "# Write facts to textfile\n",
    "filename = ('data/{}.txt').format(*info_dict_5['Filename'])\n",
    "with open(filename,'w') as tfile:\n",
    "    for i in info_dict_5.keys():\n",
    "        tfile.write(i + \": \" + ', '.join([str(x) for x in info_dict_5[i]]) + \"\\n\")\n",
    "tfile.close()\n",
    "print(\"Facts saved to file:\", filename)\n",
    "\n",
    "# Save data to CSV\n",
    "csvname = 'data/{}.csv' .format(*info_dict_5['Filename'])\n",
    "df_5.to_csv(csvname, sep=';')\n",
    "print(\"Data saved to file:\", csvname)"
   ]
  },
  {
   "cell_type": "code",
   "execution_count": null,
   "metadata": {},
   "outputs": [],
   "source": []
  }
 ],
 "metadata": {
  "kernelspec": {
   "display_name": "Python 3",
   "language": "python",
   "name": "python3"
  },
  "language_info": {
   "codemirror_mode": {
    "name": "ipython",
    "version": 3
   },
   "file_extension": ".py",
   "mimetype": "text/x-python",
   "name": "python",
   "nbconvert_exporter": "python",
   "pygments_lexer": "ipython3",
   "version": "3.6.5"
  }
 },
 "nbformat": 4,
 "nbformat_minor": 2
}
